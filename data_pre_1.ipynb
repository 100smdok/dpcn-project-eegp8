{
 "cells": [
  {
   "cell_type": "code",
   "execution_count": 60,
   "metadata": {},
   "outputs": [],
   "source": [
    "import pandas as pd"
   ]
  },
  {
   "cell_type": "code",
   "execution_count": 61,
   "metadata": {},
   "outputs": [],
   "source": [
    "'''\n",
    "Truncate the original iEEG time series by taking all the seizure time points along with 5000 time points from before as well as after seizure.\n",
    "file_id     episode     start       dt  SzOnLoc         tend\ttend_sec\ttsz\t    tsz_sec\tdt_s\n",
    "111\t        15:42:30    15:40:46\t104\tL mesial temp\t43101\t215.505\t    34974\t174.87\t40.635\n",
    "112\t        17:04:35    17:02:51\t104\tL mesial temp\t38828\t194.14\t    26999\t134.995\t59.145\n",
    "113\t        19:42:49    19:41:06\t103\tR mesial temp\t35820\t179.1\t    25562\t127.81\t51.29\n",
    "'''\n",
    "\n",
    "def truncate_data(data, tstart, tend):\n",
    "    channels = data.columns[1:]\n",
    "    # Extract data for each channel as a NumPy array\n",
    "    channel_data = {}\n",
    "    for channel in channels:\n",
    "        channel_data[channel] = data[channel].to_numpy()\n",
    "\n",
    "    # Truncate data start-5000:end+5000\n",
    "    truncated_data = {}\n",
    "    for channel, data in channel_data.items():\n",
    "        truncated_data[channel] = data[tstart-5000:tend+5000]\n",
    "\n",
    "    # Save the truncated data to a new CSV file\n",
    "    truncated_data_df = pd.DataFrame(truncated_data)\n",
    "\n",
    "    return truncated_data_df"
   ]
  },
  {
   "cell_type": "code",
   "execution_count": 62,
   "metadata": {},
   "outputs": [],
   "source": [
    "'''\n",
    "Fragmentize the truncated time series into 14 parts.\n",
    "Scheme: b/f seizure + seizure + a/f seizure = 2+10+2\n",
    "Length of the fragments, separately in the three regions, must be identical.\n",
    "'''\n",
    "\n",
    "def fragmentize_data(data, filename):\n",
    "    # add one more column to the data frame to store the fragment number\n",
    "    data['fragment'] = 0\n",
    "\n",
    "    # fragmentize the data\n",
    "    # divide the first 5000 points into 2 fragments\n",
    "    data.loc[0:2500, 'fragment'] = 1\n",
    "    data.loc[2501:5000, 'fragment'] = 2\n",
    "\n",
    "    # divide the last 5000 points into 2 fragments\n",
    "    data.loc[len(data)-5000:len(data)-2501, 'fragment'] = 13\n",
    "    data.loc[len(data)-2500:len(data), 'fragment'] = 14\n",
    "\n",
    "    # divide the seizure points into 10 fragments\n",
    "    seizure_points = data[data['fragment'] == 0].index\n",
    "    n = len(seizure_points)\n",
    "    for i in range(10):\n",
    "        data.loc[seizure_points[int(i*n/10):int((i+1)*n/10)], 'fragment'] = i+3\n",
    "        \n",
    "    # save the fragmentized data to a new CSV file\n",
    "    data.to_csv((filename.replace('.csv'), '_fragmentized.csv'), index=False)"
   ]
  },
  {
   "cell_type": "code",
   "execution_count": 63,
   "metadata": {},
   "outputs": [],
   "source": [
    "'''\n",
    "Remove reference channels and any channels that start with G, F, I. Column names must be only the channel names without any other characters in the string.\n",
    "Reference channels after cleaning: \"b'SEEG TLR03'\",\"b'SEEG TLR04'\"\n",
    "'''\n",
    "\n",
    "def clean_data(data, column_names):\n",
    "    # Remove reference channels\n",
    "    data = data.drop(columns=column_names)\n",
    "\n",
    "    # Remove channels that start with G, F, I\n",
    "    data = data[data.columns[~data.columns.str.startswith('G')]]\n",
    "    data = data[data.columns[~data.columns.str.startswith('F')]]\n",
    "    data = data[data.columns[~data.columns.str.startswith('I')]]\n",
    "\n",
    "    # Rename the columns to remove the b' and ' characters\n",
    "    data.columns = [channel[2:-1] for channel in data.columns]\n",
    "\n",
    "    return data"
   ]
  },
  {
   "cell_type": "code",
   "execution_count": 64,
   "metadata": {},
   "outputs": [
    {
     "ename": "TypeError",
     "evalue": "replace expected at least 2 arguments, got 1",
     "output_type": "error",
     "traceback": [
      "\u001b[0;31m---------------------------------------------------------------------------\u001b[0m",
      "\u001b[0;31mTypeError\u001b[0m                                 Traceback (most recent call last)",
      "\u001b[1;32m/home/sunny/dpcn/dpcn-project-eegp8/data_pre_1.ipynb Cell 5\u001b[0m line \u001b[0;36m4\n\u001b[1;32m      <a href='vscode-notebook-cell:/home/sunny/dpcn/dpcn-project-eegp8/data_pre_1.ipynb#W4sZmlsZQ%3D%3D?line=1'>2</a>\u001b[0m truncated_data \u001b[39m=\u001b[39m truncate_data(data, \u001b[39m29095\u001b[39m, \u001b[39m42573\u001b[39m)\n\u001b[1;32m      <a href='vscode-notebook-cell:/home/sunny/dpcn/dpcn-project-eegp8/data_pre_1.ipynb#W4sZmlsZQ%3D%3D?line=2'>3</a>\u001b[0m cleaned_data \u001b[39m=\u001b[39m clean_data(truncated_data, [\u001b[39m\"\u001b[39m\u001b[39mb\u001b[39m\u001b[39m\\'\u001b[39;00m\u001b[39mSEEG TBAL1\u001b[39m\u001b[39m\\'\u001b[39;00m\u001b[39m\"\u001b[39m,\u001b[39m\"\u001b[39m\u001b[39mb\u001b[39m\u001b[39m\\'\u001b[39;00m\u001b[39mSEEG TBAL2\u001b[39m\u001b[39m\\'\u001b[39;00m\u001b[39m\"\u001b[39m])\n\u001b[0;32m----> <a href='vscode-notebook-cell:/home/sunny/dpcn/dpcn-project-eegp8/data_pre_1.ipynb#W4sZmlsZQ%3D%3D?line=3'>4</a>\u001b[0m data \u001b[39m=\u001b[39m fragmentize_data(cleaned_data, \u001b[39m'\u001b[39;49m\u001b[39m029b0RMT.csv\u001b[39;49m\u001b[39m'\u001b[39;49m)\n\u001b[1;32m      <a href='vscode-notebook-cell:/home/sunny/dpcn/dpcn-project-eegp8/data_pre_1.ipynb#W4sZmlsZQ%3D%3D?line=4'>5</a>\u001b[0m data\n",
      "\u001b[1;32m/home/sunny/dpcn/dpcn-project-eegp8/data_pre_1.ipynb Cell 5\u001b[0m line \u001b[0;36m2\n\u001b[1;32m     <a href='vscode-notebook-cell:/home/sunny/dpcn/dpcn-project-eegp8/data_pre_1.ipynb#W4sZmlsZQ%3D%3D?line=23'>24</a>\u001b[0m     data\u001b[39m.\u001b[39mloc[seizure_points[\u001b[39mint\u001b[39m(i\u001b[39m*\u001b[39mn\u001b[39m/\u001b[39m\u001b[39m10\u001b[39m):\u001b[39mint\u001b[39m((i\u001b[39m+\u001b[39m\u001b[39m1\u001b[39m)\u001b[39m*\u001b[39mn\u001b[39m/\u001b[39m\u001b[39m10\u001b[39m)], \u001b[39m'\u001b[39m\u001b[39mfragment\u001b[39m\u001b[39m'\u001b[39m] \u001b[39m=\u001b[39m i\u001b[39m+\u001b[39m\u001b[39m3\u001b[39m\n\u001b[1;32m     <a href='vscode-notebook-cell:/home/sunny/dpcn/dpcn-project-eegp8/data_pre_1.ipynb#W4sZmlsZQ%3D%3D?line=25'>26</a>\u001b[0m \u001b[39m# save the fragmentized data to a new CSV file\u001b[39;00m\n\u001b[0;32m---> <a href='vscode-notebook-cell:/home/sunny/dpcn/dpcn-project-eegp8/data_pre_1.ipynb#W4sZmlsZQ%3D%3D?line=26'>27</a>\u001b[0m data\u001b[39m.\u001b[39mto_csv(filename\u001b[39m.\u001b[39;49mreplace(\u001b[39m'\u001b[39;49m\u001b[39m.csv\u001b[39;49m\u001b[39m'\u001b[39;49m), \u001b[39m'\u001b[39m\u001b[39m_fragmentized.csv\u001b[39m\u001b[39m'\u001b[39m, index\u001b[39m=\u001b[39m\u001b[39mFalse\u001b[39;00m)\n",
      "\u001b[0;31mTypeError\u001b[0m: replace expected at least 2 arguments, got 1"
     ]
    }
   ],
   "source": [
    "data = pd.read_csv('029b0RMT.csv')\n",
    "truncated_data = truncate_data(data, 29095, 42573)\n",
    "cleaned_data = clean_data(truncated_data, [\"b\\'SEEG TBAL1\\'\",\"b\\'SEEG TBAL2\\'\"])\n",
    "data = fragmentize_data(cleaned_data, '029b0RMT.csv')\n",
    "data"
   ]
  },
  {
   "cell_type": "code",
   "execution_count": null,
   "metadata": {},
   "outputs": [],
   "source": [
    "data = pd.read_csv('117h0RMT.csv')\n",
    "truncated_data = truncate_data(data, 35841, 47050)\n",
    "cleaned_data = clean_data(truncated_data, [\"b\\'SEEG FLL07\\'\",\"b\\'SEEG FLL08\\'\"])\n",
    "fragmentize_data(cleaned_data, '117h0RMT.csv')"
   ]
  }
 ],
 "metadata": {
  "kernelspec": {
   "display_name": "Python 3",
   "language": "python",
   "name": "python3"
  },
  "language_info": {
   "codemirror_mode": {
    "name": "ipython",
    "version": 3
   },
   "file_extension": ".py",
   "mimetype": "text/x-python",
   "name": "python",
   "nbconvert_exporter": "python",
   "pygments_lexer": "ipython3",
   "version": "3.10.10"
  }
 },
 "nbformat": 4,
 "nbformat_minor": 2
}

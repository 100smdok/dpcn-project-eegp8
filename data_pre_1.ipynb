{
 "cells": [
  {
   "cell_type": "code",
   "execution_count": 18,
   "metadata": {},
   "outputs": [],
   "source": [
    "import pandas as pd"
   ]
  },
  {
   "cell_type": "code",
   "execution_count": 19,
   "metadata": {},
   "outputs": [],
   "source": [
    "'''\n",
    "Truncate the original iEEG time series by taking all the seizure time points along with 5000 time points from before as well as after seizure.\n",
    "file_id     episode     start       dt  SzOnLoc         tend\ttend_sec\ttsz\t    tsz_sec\tdt_s\n",
    "111\t        15:42:30    15:40:46\t104\tL mesial temp\t43101\t215.505\t    34974\t174.87\t40.635\n",
    "112\t        17:04:35    17:02:51\t104\tL mesial temp\t38828\t194.14\t    26999\t134.995\t59.145\n",
    "113\t        19:42:49    19:41:06\t103\tR mesial temp\t35820\t179.1\t    25562\t127.81\t51.29\n",
    "'''\n",
    "\n",
    "def truncate_data(data, tstart, tend):\n",
    "    channels = data.columns[1:]\n",
    "    # Extract data for each channel as a NumPy array\n",
    "    channel_data = {}\n",
    "    for channel in channels:\n",
    "        channel_data[channel] = data[channel].to_numpy()\n",
    "\n",
    "    # Truncate data start-5000:end+5000\n",
    "    truncated_data = {}\n",
    "    for channel, data in channel_data.items():\n",
    "        truncated_data[channel] = data[tstart-5000:tend+5000]\n",
    "\n",
    "    # Save the truncated data to a new CSV file\n",
    "    truncated_data_df = pd.DataFrame(truncated_data)\n",
    "\n",
    "    return truncated_data_df"
   ]
  },
  {
   "cell_type": "code",
   "execution_count": 20,
   "metadata": {},
   "outputs": [],
   "source": [
    "'''\n",
    "Fragmentize the truncated time series into 14 parts.\n",
    "Scheme: b/f seizure + seizure + a/f seizure = 2+10+2\n",
    "Length of the fragments, separately in the three regions, must be identical.\n",
    "'''\n",
    "\n",
    "def fragmentize_data(data, filename):\n",
    "    # divide the the first 5000 points into 2 parts\n",
    "    first = data[:5000]\n",
    "    first1 = first[:2500]\n",
    "    first2 = first[2500:]\n",
    "\n",
    "    # divide the last 5000 points into 2 parts\n",
    "    last = data[-5000:]\n",
    "    last1 = last[:2500]\n",
    "    last2 = last[2500:]\n",
    "\n",
    "    # divide the seizure points into 10 parts\n",
    "    seizure = data[5000:-5000]\n",
    "    seizure_len = len(seizure)\n",
    "    part_len = seizure_len//10\n",
    "    seizure_parts = []\n",
    "    for i in range(10):\n",
    "        seizure_parts.append(seizure[i*part_len:(i+1)*part_len])\n",
    "\n",
    "    # Save the different parts to a new CSV file\n",
    "    first1_df = pd.DataFrame(first1)\n",
    "    first2_df = pd.DataFrame(first2)\n",
    "    seizure_during_df = [pd.DataFrame(part) for part in seizure_parts]\n",
    "    last1_df = pd.DataFrame(last1)\n",
    "    last2_df = pd.DataFrame(last2)\n",
    "\n",
    "    first1_df.to_csv('./data/' + filename.replace('.csv', '_first_part_1.csv'), index=False)\n",
    "    first2_df.to_csv('./data/' + filename.replace('.csv', '_first_part_2.csv'), index=False)\n",
    "    for i in range(10):\n",
    "        seizure_during_df[i].to_csv('./data/' + filename.replace('.csv', '_seizure_part_' + str(i+1) + '.csv'), index=False)\n",
    "    last1_df.to_csv('./data/' + filename.replace('.csv', '_last_part_1.csv'), index=False)\n",
    "    last2_df.to_csv('./data/' + filename.replace('.csv', '_last_part_2.csv'), index=False)"
   ]
  },
  {
   "cell_type": "code",
   "execution_count": 21,
   "metadata": {},
   "outputs": [],
   "source": [
    "'''\n",
    "Remove reference channels and any channels that start with G, F, I. Column names must be only the channel names without any other characters in the string.\n",
    "Reference channels after cleaning: \"b'SEEG TLR03'\",\"b'SEEG TLR04'\"\n",
    "'''\n",
    "\n",
    "def clean_data(data, column_names):\n",
    "    # Remove reference channels\n",
    "    data = data.drop(columns=column_names)\n",
    "\n",
    "    # Remove channels that start with G, F, I\n",
    "    # don't understand\n",
    "    # need clarification\n",
    "\n",
    "    # Rename the columns to remove the b' and ' characters\n",
    "    data.columns = [channel[2:-1] for channel in data.columns]\n",
    "\n",
    "    return data"
   ]
  },
  {
   "cell_type": "code",
   "execution_count": 22,
   "metadata": {},
   "outputs": [],
   "source": [
    "data = pd.read_csv('029b0RMT.csv')\n",
    "truncated_data = truncate_data(data, 29095, 42573)\n",
    "cleaned_data = clean_data(truncated_data, [\"b\\'SEEG TBAL1\\'\",\"b\\'SEEG TBAL2\\'\"])\n",
    "fragmentize_data(cleaned_data, '029b0RMT.csv')"
   ]
  },
  {
   "cell_type": "code",
   "execution_count": 23,
   "metadata": {},
   "outputs": [],
   "source": [
    "data = pd.read_csv('117h0RMT.csv')\n",
    "truncated_data = truncate_data(data, 35841, 47050)\n",
    "cleaned_data = clean_data(truncated_data, [\"b\\'SEEG FLL07\\'\",\"b\\'SEEG FLL08\\'\"])\n",
    "fragmentize_data(cleaned_data, '117h0RMT.csv')"
   ]
  }
 ],
 "metadata": {
  "kernelspec": {
   "display_name": "Python 3",
   "language": "python",
   "name": "python3"
  },
  "language_info": {
   "codemirror_mode": {
    "name": "ipython",
    "version": 3
   },
   "file_extension": ".py",
   "mimetype": "text/x-python",
   "name": "python",
   "nbconvert_exporter": "python",
   "pygments_lexer": "ipython3",
   "version": "3.10.10"
  }
 },
 "nbformat": 4,
 "nbformat_minor": 2
}

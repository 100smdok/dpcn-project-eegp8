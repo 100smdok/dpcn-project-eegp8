{
 "cells": [
  {
   "cell_type": "code",
   "execution_count": 2,
   "metadata": {},
   "outputs": [],
   "source": [
    "import numpy as np\n",
    "import pandas as pd\n",
    "import matplotlib.pyplot as plt\n",
    "from scipy.signal import butter, filtfilt\n",
    "SAMPLING_FREQ = 200"
   ]
  },
  {
   "cell_type": "code",
   "execution_count": 3,
   "metadata": {},
   "outputs": [],
   "source": [
    "# load the data from csv files\n",
    "def load_from_fragments(name):\n",
    "    path = name + '_fragmentized.csv'\n",
    "    data = pd.read_csv(path)\n",
    "    return data\n",
    "\n",
    "def compute_fft(data, sampling_freq):\n",
    "    # Compute the length of the signal\n",
    "    N = len(data)\n",
    "    \n",
    "    # Compute the frequencies corresponding to the FFT\n",
    "    freqs = np.fft.fftfreq(N, d=1/sampling_freq)\n",
    "    \n",
    "    # Compute the FFT of the data\n",
    "    fft_vals = np.fft.fft(data)\n",
    "    \n",
    "    return freqs, fft_vals\n",
    "\n",
    "# plot the time signal for a given channel\n",
    "def plot_time_signal(name, data, channel, save=False):\n",
    "    plt.figure()\n",
    "    plt.plot(data[channel])\n",
    "    plt.xlabel('frame')\n",
    "    plt.ylabel('Amplitude')\n",
    "    plt.title('Time signal for channel ' + channel)\n",
    "    if save:\n",
    "        plt.savefig('./plots/timesignal/' + name + '/ts_channel_' + channel + '.png')\n",
    "    plt.close()\n",
    "\n",
    "# plot the frequency distribution for a given channel by using the FFT\n",
    "def plot_frequency_distribution(name, data, channel, save=False):\n",
    "    plt.figure()\n",
    "    freqs, fft_vals = compute_fft(data[channel], SAMPLING_FREQ)\n",
    "    plt.plot(freqs, np.abs(fft_vals))\n",
    "    plt.xlabel('Frequency (Hz)')\n",
    "    plt.ylabel('Amplitude')\n",
    "    plt.title('Frequency distribution for channel ' + channel)\n",
    "    if save:\n",
    "        plt.savefig('./plots/frequency/' + name + '/fd_channel_' + channel + '.png')\n",
    "    plt.close()"
   ]
  },
  {
   "cell_type": "code",
   "execution_count": 9,
   "metadata": {},
   "outputs": [
    {
     "name": "stdout",
     "output_type": "stream",
     "text": [
      "(23478, 43)\n",
      "(21209, 75)\n"
     ]
    }
   ],
   "source": [
    "# load the data\n",
    "data_029b0RMT = load_from_fragments('029b0RMT')\n",
    "data_117h0RMT = load_from_fragments('117h0RMT')\n",
    "\n",
    "print(data_029b0RMT.shape)\n",
    "print(data_117h0RMT.shape)"
   ]
  },
  {
   "cell_type": "code",
   "execution_count": 47,
   "metadata": {},
   "outputs": [],
   "source": [
    "# plot time signals and frequency distributions for all channels\n",
    "for key in data_029b0RMT.keys():\n",
    "    plot_time_signal('029b0RMT', data_029b0RMT, key, save=True)\n",
    "    plot_frequency_distribution('029b0RMT', data_029b0RMT, key, save=True)\n",
    "for key in data_117h0RMT.keys():\n",
    "    plot_time_signal('117h0RMT', data_117h0RMT, key, save=True)\n",
    "    plot_frequency_distribution('117h0RMT', data_117h0RMT, key, save=True)"
   ]
  },
  {
   "cell_type": "code",
   "execution_count": 5,
   "metadata": {},
   "outputs": [],
   "source": [
    "def butter_bandpass_filter(data, lowcut, highcut, fs, order=5):\n",
    "    nyq = 0.5 * fs\n",
    "    low = lowcut / nyq\n",
    "    high = highcut / nyq\n",
    "    b, a = butter(order, [low, high], btype='band')\n",
    "    filtered_data = filtfilt(b, a, data)\n",
    "    return filtered_data"
   ]
  },
  {
   "cell_type": "code",
   "execution_count": 8,
   "metadata": {},
   "outputs": [
    {
     "name": "stdout",
     "output_type": "stream",
     "text": [
      "(23478, 43)\n",
      "(21209, 75)\n"
     ]
    },
    {
     "ename": "AttributeError",
     "evalue": "'numpy.ndarray' object has no attribute 'to_csv'",
     "output_type": "error",
     "traceback": [
      "\u001b[0;31m---------------------------------------------------------------------------\u001b[0m",
      "\u001b[0;31mAttributeError\u001b[0m                            Traceback (most recent call last)",
      "Cell \u001b[0;32mIn[8], line 8\u001b[0m\n\u001b[1;32m      5\u001b[0m \u001b[38;5;28mprint\u001b[39m(delta_filtered_117h0RMT\u001b[38;5;241m.\u001b[39mshape)\n\u001b[1;32m      7\u001b[0m \u001b[38;5;66;03m# save the filtered data\u001b[39;00m\n\u001b[0;32m----> 8\u001b[0m \u001b[43mdelta_filtered_029b0RMT\u001b[49m\u001b[38;5;241;43m.\u001b[39;49m\u001b[43mto_csv\u001b[49m(\u001b[38;5;124m'\u001b[39m\u001b[38;5;124m029b0RMT_filtered.csv\u001b[39m\u001b[38;5;124m'\u001b[39m, index\u001b[38;5;241m=\u001b[39m\u001b[38;5;28;01mFalse\u001b[39;00m)\n\u001b[1;32m      9\u001b[0m delta_filtered_117h0RMT\u001b[38;5;241m.\u001b[39mto_csv(\u001b[38;5;124m'\u001b[39m\u001b[38;5;124m117h0RMT_filtered.csv\u001b[39m\u001b[38;5;124m'\u001b[39m, index\u001b[38;5;241m=\u001b[39m\u001b[38;5;28;01mFalse\u001b[39;00m)\n",
      "\u001b[0;31mAttributeError\u001b[0m: 'numpy.ndarray' object has no attribute 'to_csv'"
     ]
    }
   ],
   "source": [
    "delta_filtered_029b0RMT = butter_bandpass_filter(data_029b0RMT, 0.5, 4, SAMPLING_FREQ)\n",
    "delta_filtered_117h0RMT = butter_bandpass_filter(data_117h0RMT, 0.5, 4, SAMPLING_FREQ)\n",
    "\n",
    "print(delta_filtered_029b0RMT.shape)\n",
    "print(delta_filtered_117h0RMT.shape)\n",
    "\n",
    "# save the filtered data\n",
    "delta_filtered_029b0RMT.to_csv('029b0RMT_filtered.csv', index=False)\n",
    "delta_filtered_117h0RMT.to_csv('117h0RMT_filtered.csv', index=False)"
   ]
  },
  {
   "cell_type": "code",
   "execution_count": null,
   "metadata": {},
   "outputs": [],
   "source": []
  }
 ],
 "metadata": {
  "kernelspec": {
   "display_name": "Python 3",
   "language": "python",
   "name": "python3"
  },
  "language_info": {
   "codemirror_mode": {
    "name": "ipython",
    "version": 3
   },
   "file_extension": ".py",
   "mimetype": "text/x-python",
   "name": "python",
   "nbconvert_exporter": "python",
   "pygments_lexer": "ipython3",
   "version": "3.10.12"
  }
 },
 "nbformat": 4,
 "nbformat_minor": 2
}
